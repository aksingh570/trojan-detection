{
  "nbformat": 4,
  "nbformat_minor": 0,
  "metadata": {
    "colab": {
      "provenance": [],
      "authorship_tag": "ABX9TyOlqZYSRRJaSKy0fUhOfvxE",
      "include_colab_link": true
    },
    "kernelspec": {
      "name": "python3",
      "display_name": "Python 3"
    },
    "language_info": {
      "name": "python"
    }
  },
  "cells": [
    {
      "cell_type": "markdown",
      "metadata": {
        "id": "view-in-github",
        "colab_type": "text"
      },
      "source": [
        "<a href=\"https://colab.research.google.com/github/aksingh570/trojan-detection/blob/main/TROJAN_MALWARE_.ipynb\" target=\"_parent\"><img src=\"https://colab.research.google.com/assets/colab-badge.svg\" alt=\"Open In Colab\"/></a>"
      ]
    },
    {
      "cell_type": "code",
      "execution_count": null,
      "metadata": {
        "colab": {
          "base_uri": "https://localhost:8080/"
        },
        "id": "brnp8jS_hE-t",
        "outputId": "3ac98b54-5278-4f84-a7a0-0af5ad1283f7"
      },
      "outputs": [
        {
          "output_type": "stream",
          "name": "stdout",
          "text": [
            "/bin/bash: -c: line 1: syntax error near unexpected token `('\n",
            "/bin/bash: -c: line 1: `cp kaggle(1).json ~/.kaggle/'\n"
          ]
        }
      ],
      "source": [
        "!mkdir -p ~/.kaggle\n",
        "!cp kaggle(1).json ~/.kaggle/"
      ]
    },
    {
      "cell_type": "code",
      "source": [
        "import kagglehub\n",
        "\n",
        "# Download latest version\n",
        "path = kagglehub.dataset_download(\"neelabhkshetry/trojan-classification\")\n"
      ],
      "metadata": {
        "colab": {
          "base_uri": "https://localhost:8080/"
        },
        "id": "GENraiE0k50e",
        "outputId": "2b582e1b-a0f4-4da8-c953-783fe1a2f987"
      },
      "execution_count": null,
      "outputs": [
        {
          "output_type": "stream",
          "name": "stdout",
          "text": [
            "Downloading from https://www.kaggle.com/api/v1/datasets/download/neelabhkshetry/trojan-classification?dataset_version_number=1...\n"
          ]
        },
        {
          "output_type": "stream",
          "name": "stderr",
          "text": [
            "100%|██████████| 26.7M/26.7M [00:00<00:00, 73.8MB/s]"
          ]
        },
        {
          "output_type": "stream",
          "name": "stdout",
          "text": [
            "Extracting files...\n"
          ]
        },
        {
          "output_type": "stream",
          "name": "stderr",
          "text": [
            "\n"
          ]
        }
      ]
    },
    {
      "cell_type": "code",
      "source": [
        "!kaggle datasets download -d neelabhkshetry/trojan-classification"
      ],
      "metadata": {
        "colab": {
          "base_uri": "https://localhost:8080/"
        },
        "id": "-AXMiZPu4zV6",
        "outputId": "38df2406-6b01-4fa3-b711-0a76e32b656b"
      },
      "execution_count": null,
      "outputs": [
        {
          "output_type": "stream",
          "name": "stdout",
          "text": [
            "Dataset URL: https://www.kaggle.com/datasets/neelabhkshetry/trojan-classification\n",
            "License(s): unknown\n",
            "trojan-classification.zip: Skipping, found more recently modified local copy (use --force to force download)\n"
          ]
        }
      ]
    },
    {
      "cell_type": "code",
      "source": [
        "!unzip trojan-classification.zip -d trojan-classification"
      ],
      "metadata": {
        "colab": {
          "base_uri": "https://localhost:8080/"
        },
        "id": "FQIRVytT5APH",
        "outputId": "eb123181-d466-4b65-f79c-f771c24bf21f"
      },
      "execution_count": null,
      "outputs": [
        {
          "output_type": "stream",
          "name": "stdout",
          "text": [
            "Archive:  trojan-classification.zip\n",
            "  inflating: trojan-classification/test_data.csv  \n",
            "  inflating: trojan-classification/train_data.csv  \n"
          ]
        }
      ]
    },
    {
      "cell_type": "code",
      "source": [
        "import pandas as pd\n",
        "import numpy as np\n",
        "import seaborn as sns\n",
        "import matplotlib.pyplot as plt\n",
        "from sklearn.model_selection import train_test_split\n",
        "from sklearn.ensemble import RandomForestClassifier\n",
        "from sklearn.metrics import accuracy_score, classification_report\n",
        "from sklearn.preprocessing import StandardScaler\n",
        "from sklearn.neural_network import MLPClassifier"
      ],
      "metadata": {
        "id": "-WGc5VpB6bGh"
      },
      "execution_count": null,
      "outputs": []
    },
    {
      "cell_type": "code",
      "source": [
        "data = pd.read_csv('trojan-classification/train_data.csv')\n",
        "data.head()bios"
      ],
      "metadata": {
        "colab": {
          "base_uri": "https://localhost:8080/",
          "height": 463
        },
        "id": "cbRcMoTR6MSH",
        "outputId": "ceef6994-91de-4924-9825-c58b5d35e5e5"
      },
      "execution_count": null,
      "outputs": [
        {
          "output_type": "execute_result",
          "data": {
            "text/plain": [
              "   Unnamed: 0                                 Flow ID    Source IP  \\\n",
              "0       98470        10.42.0.1-10.42.0.42-53-57265-17   10.42.0.42   \n",
              "1       57471        10.42.0.1-10.42.0.42-53-17935-17   10.42.0.42   \n",
              "2       78607     10.42.0.42-106.39.162.36-32973-80-6   10.42.0.42   \n",
              "3         248  10.42.0.211-103.235.46.211-33302-443-6  10.42.0.211   \n",
              "4       79487      10.42.0.42-77.234.44.43-55580-80-6   10.42.0.42   \n",
              "\n",
              "    Source Port  Destination IP   Destination Port   Protocol  \\\n",
              "0         57265       10.42.0.1                 53         17   \n",
              "1         17935       10.42.0.1                 53         17   \n",
              "2         32973   106.39.162.36                 80          6   \n",
              "3         33302  103.235.46.211                443          6   \n",
              "4         55580    77.234.44.43                 80          6   \n",
              "\n",
              "             Timestamp   Flow Duration   Total Fwd Packets  ...  \\\n",
              "0  02/07/2017 08:20:44          545837                   1  ...   \n",
              "1  14/07/2017 12:22:19          631665                   1  ...   \n",
              "2  17/07/2017 02:27:17         9950468                   2  ...   \n",
              "3  11/07/2017 09:14:59        22444897                   2  ...   \n",
              "4  17/07/2017 02:48:17        42536386                   2  ...   \n",
              "\n",
              "    min_seg_size_forward  Active Mean   Active Std   Active Max   Active Min  \\\n",
              "0                     20          0.0          0.0          0.0          0.0   \n",
              "1                     40          0.0          0.0          0.0          0.0   \n",
              "2                     20          0.0          0.0          0.0          0.0   \n",
              "3                     20          0.0          0.0          0.0          0.0   \n",
              "4                     32          0.0          0.0          0.0          0.0   \n",
              "\n",
              "   Idle Mean   Idle Std   Idle Max   Idle Min   Class  \n",
              "0        0.0        0.0        0.0        0.0  Benign  \n",
              "1        0.0        0.0        0.0        0.0  Trojan  \n",
              "2        0.0        0.0        0.0        0.0  Trojan  \n",
              "3        0.0        0.0        0.0        0.0  Trojan  \n",
              "4        0.0        0.0        0.0        0.0  Trojan  \n",
              "\n",
              "[5 rows x 86 columns]"
            ],
            "text/html": [
              "\n",
              "  <div id=\"df-a8b78d2a-745b-4ab4-9cb9-2ffbaa40eb28\" class=\"colab-df-container\">\n",
              "    <div>\n",
              "<style scoped>\n",
              "    .dataframe tbody tr th:only-of-type {\n",
              "        vertical-align: middle;\n",
              "    }\n",
              "\n",
              "    .dataframe tbody tr th {\n",
              "        vertical-align: top;\n",
              "    }\n",
              "\n",
              "    .dataframe thead th {\n",
              "        text-align: right;\n",
              "    }\n",
              "</style>\n",
              "<table border=\"1\" class=\"dataframe\">\n",
              "  <thead>\n",
              "    <tr style=\"text-align: right;\">\n",
              "      <th></th>\n",
              "      <th>Unnamed: 0</th>\n",
              "      <th>Flow ID</th>\n",
              "      <th>Source IP</th>\n",
              "      <th>Source Port</th>\n",
              "      <th>Destination IP</th>\n",
              "      <th>Destination Port</th>\n",
              "      <th>Protocol</th>\n",
              "      <th>Timestamp</th>\n",
              "      <th>Flow Duration</th>\n",
              "      <th>Total Fwd Packets</th>\n",
              "      <th>...</th>\n",
              "      <th>min_seg_size_forward</th>\n",
              "      <th>Active Mean</th>\n",
              "      <th>Active Std</th>\n",
              "      <th>Active Max</th>\n",
              "      <th>Active Min</th>\n",
              "      <th>Idle Mean</th>\n",
              "      <th>Idle Std</th>\n",
              "      <th>Idle Max</th>\n",
              "      <th>Idle Min</th>\n",
              "      <th>Class</th>\n",
              "    </tr>\n",
              "  </thead>\n",
              "  <tbody>\n",
              "    <tr>\n",
              "      <th>0</th>\n",
              "      <td>98470</td>\n",
              "      <td>10.42.0.1-10.42.0.42-53-57265-17</td>\n",
              "      <td>10.42.0.42</td>\n",
              "      <td>57265</td>\n",
              "      <td>10.42.0.1</td>\n",
              "      <td>53</td>\n",
              "      <td>17</td>\n",
              "      <td>02/07/2017 08:20:44</td>\n",
              "      <td>545837</td>\n",
              "      <td>1</td>\n",
              "      <td>...</td>\n",
              "      <td>20</td>\n",
              "      <td>0.0</td>\n",
              "      <td>0.0</td>\n",
              "      <td>0.0</td>\n",
              "      <td>0.0</td>\n",
              "      <td>0.0</td>\n",
              "      <td>0.0</td>\n",
              "      <td>0.0</td>\n",
              "      <td>0.0</td>\n",
              "      <td>Benign</td>\n",
              "    </tr>\n",
              "    <tr>\n",
              "      <th>1</th>\n",
              "      <td>57471</td>\n",
              "      <td>10.42.0.1-10.42.0.42-53-17935-17</td>\n",
              "      <td>10.42.0.42</td>\n",
              "      <td>17935</td>\n",
              "      <td>10.42.0.1</td>\n",
              "      <td>53</td>\n",
              "      <td>17</td>\n",
              "      <td>14/07/2017 12:22:19</td>\n",
              "      <td>631665</td>\n",
              "      <td>1</td>\n",
              "      <td>...</td>\n",
              "      <td>40</td>\n",
              "      <td>0.0</td>\n",
              "      <td>0.0</td>\n",
              "      <td>0.0</td>\n",
              "      <td>0.0</td>\n",
              "      <td>0.0</td>\n",
              "      <td>0.0</td>\n",
              "      <td>0.0</td>\n",
              "      <td>0.0</td>\n",
              "      <td>Trojan</td>\n",
              "    </tr>\n",
              "    <tr>\n",
              "      <th>2</th>\n",
              "      <td>78607</td>\n",
              "      <td>10.42.0.42-106.39.162.36-32973-80-6</td>\n",
              "      <td>10.42.0.42</td>\n",
              "      <td>32973</td>\n",
              "      <td>106.39.162.36</td>\n",
              "      <td>80</td>\n",
              "      <td>6</td>\n",
              "      <td>17/07/2017 02:27:17</td>\n",
              "      <td>9950468</td>\n",
              "      <td>2</td>\n",
              "      <td>...</td>\n",
              "      <td>20</td>\n",
              "      <td>0.0</td>\n",
              "      <td>0.0</td>\n",
              "      <td>0.0</td>\n",
              "      <td>0.0</td>\n",
              "      <td>0.0</td>\n",
              "      <td>0.0</td>\n",
              "      <td>0.0</td>\n",
              "      <td>0.0</td>\n",
              "      <td>Trojan</td>\n",
              "    </tr>\n",
              "    <tr>\n",
              "      <th>3</th>\n",
              "      <td>248</td>\n",
              "      <td>10.42.0.211-103.235.46.211-33302-443-6</td>\n",
              "      <td>10.42.0.211</td>\n",
              "      <td>33302</td>\n",
              "      <td>103.235.46.211</td>\n",
              "      <td>443</td>\n",
              "      <td>6</td>\n",
              "      <td>11/07/2017 09:14:59</td>\n",
              "      <td>22444897</td>\n",
              "      <td>2</td>\n",
              "      <td>...</td>\n",
              "      <td>20</td>\n",
              "      <td>0.0</td>\n",
              "      <td>0.0</td>\n",
              "      <td>0.0</td>\n",
              "      <td>0.0</td>\n",
              "      <td>0.0</td>\n",
              "      <td>0.0</td>\n",
              "      <td>0.0</td>\n",
              "      <td>0.0</td>\n",
              "      <td>Trojan</td>\n",
              "    </tr>\n",
              "    <tr>\n",
              "      <th>4</th>\n",
              "      <td>79487</td>\n",
              "      <td>10.42.0.42-77.234.44.43-55580-80-6</td>\n",
              "      <td>10.42.0.42</td>\n",
              "      <td>55580</td>\n",
              "      <td>77.234.44.43</td>\n",
              "      <td>80</td>\n",
              "      <td>6</td>\n",
              "      <td>17/07/2017 02:48:17</td>\n",
              "      <td>42536386</td>\n",
              "      <td>2</td>\n",
              "      <td>...</td>\n",
              "      <td>32</td>\n",
              "      <td>0.0</td>\n",
              "      <td>0.0</td>\n",
              "      <td>0.0</td>\n",
              "      <td>0.0</td>\n",
              "      <td>0.0</td>\n",
              "      <td>0.0</td>\n",
              "      <td>0.0</td>\n",
              "      <td>0.0</td>\n",
              "      <td>Trojan</td>\n",
              "    </tr>\n",
              "  </tbody>\n",
              "</table>\n",
              "<p>5 rows × 86 columns</p>\n",
              "</div>\n",
              "    <div class=\"colab-df-buttons\">\n",
              "\n",
              "  <div class=\"colab-df-container\">\n",
              "    <button class=\"colab-df-convert\" onclick=\"convertToInteractive('df-a8b78d2a-745b-4ab4-9cb9-2ffbaa40eb28')\"\n",
              "            title=\"Convert this dataframe to an interactive table.\"\n",
              "            style=\"display:none;\">\n",
              "\n",
              "  <svg xmlns=\"http://www.w3.org/2000/svg\" height=\"24px\" viewBox=\"0 -960 960 960\">\n",
              "    <path d=\"M120-120v-720h720v720H120Zm60-500h600v-160H180v160Zm220 220h160v-160H400v160Zm0 220h160v-160H400v160ZM180-400h160v-160H180v160Zm440 0h160v-160H620v160ZM180-180h160v-160H180v160Zm440 0h160v-160H620v160Z\"/>\n",
              "  </svg>\n",
              "    </button>\n",
              "\n",
              "  <style>\n",
              "    .colab-df-container {\n",
              "      display:flex;\n",
              "      gap: 12px;\n",
              "    }\n",
              "\n",
              "    .colab-df-convert {\n",
              "      background-color: #E8F0FE;\n",
              "      border: none;\n",
              "      border-radius: 50%;\n",
              "      cursor: pointer;\n",
              "      display: none;\n",
              "      fill: #1967D2;\n",
              "      height: 32px;\n",
              "      padding: 0 0 0 0;\n",
              "      width: 32px;\n",
              "    }\n",
              "\n",
              "    .colab-df-convert:hover {\n",
              "      background-color: #E2EBFA;\n",
              "      box-shadow: 0px 1px 2px rgba(60, 64, 67, 0.3), 0px 1px 3px 1px rgba(60, 64, 67, 0.15);\n",
              "      fill: #174EA6;\n",
              "    }\n",
              "\n",
              "    .colab-df-buttons div {\n",
              "      margin-bottom: 4px;\n",
              "    }\n",
              "\n",
              "    [theme=dark] .colab-df-convert {\n",
              "      background-color: #3B4455;\n",
              "      fill: #D2E3FC;\n",
              "    }\n",
              "\n",
              "    [theme=dark] .colab-df-convert:hover {\n",
              "      background-color: #434B5C;\n",
              "      box-shadow: 0px 1px 3px 1px rgba(0, 0, 0, 0.15);\n",
              "      filter: drop-shadow(0px 1px 2px rgba(0, 0, 0, 0.3));\n",
              "      fill: #FFFFFF;\n",
              "    }\n",
              "  </style>\n",
              "\n",
              "    <script>\n",
              "      const buttonEl =\n",
              "        document.querySelector('#df-a8b78d2a-745b-4ab4-9cb9-2ffbaa40eb28 button.colab-df-convert');\n",
              "      buttonEl.style.display =\n",
              "        google.colab.kernel.accessAllowed ? 'block' : 'none';\n",
              "\n",
              "      async function convertToInteractive(key) {\n",
              "        const element = document.querySelector('#df-a8b78d2a-745b-4ab4-9cb9-2ffbaa40eb28');\n",
              "        const dataTable =\n",
              "          await google.colab.kernel.invokeFunction('convertToInteractive',\n",
              "                                                    [key], {});\n",
              "        if (!dataTable) return;\n",
              "\n",
              "        const docLinkHtml = 'Like what you see? Visit the ' +\n",
              "          '<a target=\"_blank\" href=https://colab.research.google.com/notebooks/data_table.ipynb>data table notebook</a>'\n",
              "          + ' to learn more about interactive tables.';\n",
              "        element.innerHTML = '';\n",
              "        dataTable['output_type'] = 'display_data';\n",
              "        await google.colab.output.renderOutput(dataTable, element);\n",
              "        const docLink = document.createElement('div');\n",
              "        docLink.innerHTML = docLinkHtml;\n",
              "        element.appendChild(docLink);\n",
              "      }\n",
              "    </script>\n",
              "  </div>\n",
              "\n",
              "\n",
              "<div id=\"df-0a006910-13aa-4c9b-9349-4b26fe3d733c\">\n",
              "  <button class=\"colab-df-quickchart\" onclick=\"quickchart('df-0a006910-13aa-4c9b-9349-4b26fe3d733c')\"\n",
              "            title=\"Suggest charts\"\n",
              "            style=\"display:none;\">\n",
              "\n",
              "<svg xmlns=\"http://www.w3.org/2000/svg\" height=\"24px\"viewBox=\"0 0 24 24\"\n",
              "     width=\"24px\">\n",
              "    <g>\n",
              "        <path d=\"M19 3H5c-1.1 0-2 .9-2 2v14c0 1.1.9 2 2 2h14c1.1 0 2-.9 2-2V5c0-1.1-.9-2-2-2zM9 17H7v-7h2v7zm4 0h-2V7h2v10zm4 0h-2v-4h2v4z\"/>\n",
              "    </g>\n",
              "</svg>\n",
              "  </button>\n",
              "\n",
              "<style>\n",
              "  .colab-df-quickchart {\n",
              "      --bg-color: #E8F0FE;\n",
              "      --fill-color: #1967D2;\n",
              "      --hover-bg-color: #E2EBFA;\n",
              "      --hover-fill-color: #174EA6;\n",
              "      --disabled-fill-color: #AAA;\n",
              "      --disabled-bg-color: #DDD;\n",
              "  }\n",
              "\n",
              "  [theme=dark] .colab-df-quickchart {\n",
              "      --bg-color: #3B4455;\n",
              "      --fill-color: #D2E3FC;\n",
              "      --hover-bg-color: #434B5C;\n",
              "      --hover-fill-color: #FFFFFF;\n",
              "      --disabled-bg-color: #3B4455;\n",
              "      --disabled-fill-color: #666;\n",
              "  }\n",
              "\n",
              "  .colab-df-quickchart {\n",
              "    background-color: var(--bg-color);\n",
              "    border: none;\n",
              "    border-radius: 50%;\n",
              "    cursor: pointer;\n",
              "    display: none;\n",
              "    fill: var(--fill-color);\n",
              "    height: 32px;\n",
              "    padding: 0;\n",
              "    width: 32px;\n",
              "  }\n",
              "\n",
              "  .colab-df-quickchart:hover {\n",
              "    background-color: var(--hover-bg-color);\n",
              "    box-shadow: 0 1px 2px rgba(60, 64, 67, 0.3), 0 1px 3px 1px rgba(60, 64, 67, 0.15);\n",
              "    fill: var(--button-hover-fill-color);\n",
              "  }\n",
              "\n",
              "  .colab-df-quickchart-complete:disabled,\n",
              "  .colab-df-quickchart-complete:disabled:hover {\n",
              "    background-color: var(--disabled-bg-color);\n",
              "    fill: var(--disabled-fill-color);\n",
              "    box-shadow: none;\n",
              "  }\n",
              "\n",
              "  .colab-df-spinner {\n",
              "    border: 2px solid var(--fill-color);\n",
              "    border-color: transparent;\n",
              "    border-bottom-color: var(--fill-color);\n",
              "    animation:\n",
              "      spin 1s steps(1) infinite;\n",
              "  }\n",
              "\n",
              "  @keyframes spin {\n",
              "    0% {\n",
              "      border-color: transparent;\n",
              "      border-bottom-color: var(--fill-color);\n",
              "      border-left-color: var(--fill-color);\n",
              "    }\n",
              "    20% {\n",
              "      border-color: transparent;\n",
              "      border-left-color: var(--fill-color);\n",
              "      border-top-color: var(--fill-color);\n",
              "    }\n",
              "    30% {\n",
              "      border-color: transparent;\n",
              "      border-left-color: var(--fill-color);\n",
              "      border-top-color: var(--fill-color);\n",
              "      border-right-color: var(--fill-color);\n",
              "    }\n",
              "    40% {\n",
              "      border-color: transparent;\n",
              "      border-right-color: var(--fill-color);\n",
              "      border-top-color: var(--fill-color);\n",
              "    }\n",
              "    60% {\n",
              "      border-color: transparent;\n",
              "      border-right-color: var(--fill-color);\n",
              "    }\n",
              "    80% {\n",
              "      border-color: transparent;\n",
              "      border-right-color: var(--fill-color);\n",
              "      border-bottom-color: var(--fill-color);\n",
              "    }\n",
              "    90% {\n",
              "      border-color: transparent;\n",
              "      border-bottom-color: var(--fill-color);\n",
              "    }\n",
              "  }\n",
              "</style>\n",
              "\n",
              "  <script>\n",
              "    async function quickchart(key) {\n",
              "      const quickchartButtonEl =\n",
              "        document.querySelector('#' + key + ' button');\n",
              "      quickchartButtonEl.disabled = true;  // To prevent multiple clicks.\n",
              "      quickchartButtonEl.classList.add('colab-df-spinner');\n",
              "      try {\n",
              "        const charts = await google.colab.kernel.invokeFunction(\n",
              "            'suggestCharts', [key], {});\n",
              "      } catch (error) {\n",
              "        console.error('Error during call to suggestCharts:', error);\n",
              "      }\n",
              "      quickchartButtonEl.classList.remove('colab-df-spinner');\n",
              "      quickchartButtonEl.classList.add('colab-df-quickchart-complete');\n",
              "    }\n",
              "    (() => {\n",
              "      let quickchartButtonEl =\n",
              "        document.querySelector('#df-0a006910-13aa-4c9b-9349-4b26fe3d733c button');\n",
              "      quickchartButtonEl.style.display =\n",
              "        google.colab.kernel.accessAllowed ? 'block' : 'none';\n",
              "    })();\n",
              "  </script>\n",
              "</div>\n",
              "\n",
              "    </div>\n",
              "  </div>\n"
            ],
            "application/vnd.google.colaboratory.intrinsic+json": {
              "type": "dataframe",
              "variable_name": "data"
            }
          },
          "metadata": {},
          "execution_count": 29
        }
      ]
    },
    {
      "cell_type": "markdown",
      "source": [],
      "metadata": {
        "id": "do0wx3LWnZra"
      }
    },
    {
      "cell_type": "markdown",
      "source": [
        "Data Preprocessing and Feature Engineering"
      ],
      "metadata": {
        "id": "yj1SLCoxuVNp"
      }
    },
    {
      "cell_type": "code",
      "source": [
        "# Assuming 'data' is your DataFrame loaded from the dataset\n",
        "data['label'] = data['Class'].map({'Benign': 0, 'Trojan': 1})\n",
        "\n",
        "# Check the actual column names in your DataFrame\n",
        "print(data.columns)\n",
        "\n",
        "# Replace the column names in the drop() method with actual names, if needed\n",
        "# For example, if your Source IP column is named 'Src IP'\n",
        "# and destination IP is named 'Dst IP', etc:\n",
        "columns_to_drop = ['Class', 'label', 'Unnamed: 0', 'Flow ID',\n",
        "                   'Src IP', 'Src Port', 'Dst IP', 'Dst Port',  # Replace with actual names\n",
        "                   'Protocol', 'Timestamp']  # Replace with actual names\n",
        "\n",
        "X = data.drop(columns=columns_to_drop, errors='ignore')\n",
        "\n",
        "y = data['label']\n",
        "\n",
        "# Separate static and dynamic features based on column naming convention (replace with actual names if needed)\n",
        "# **Modified:** Exclude columns containing strings like IP addresses from scaling\n",
        "static_features = X.select_dtypes(include=np.number).filter(regex='^Flow Duration|^Total Fwd Packets|...')  # Add all static feature patterns here, selecting only numeric columns\n",
        "dynamic_features = X.select_dtypes(include=np.number).filter(regex='^Active|^Idle')  # Add all dynamic feature patterns here, selecting only numeric columns\n",
        "\n",
        "\n",
        "# Standardize the feature values\n",
        "scaler = StandardScaler()\n",
        "static_features = scaler.fit_transform(static_features)\n",
        "dynamic_features = scaler.fit_transform(dynamic_features)\n",
        "\n",
        "# Split data into training and testing sets\n",
        "X_train_static, X_test_static, y_train, y_test = train_test_split(static_features, y, test_size=0.3, random_state=42)\n",
        "X_train_dynamic, X_test_dynamic, _, _ = train_test_split(dynamic_features, y, test_size=0.3, random_state=42)"
      ],
      "metadata": {
        "colab": {
          "base_uri": "https://localhost:8080/"
        },
        "id": "YUVdWM6lnZRr",
        "outputId": "8cdb02a2-c8a0-4fad-e65d-8f91891ed69c"
      },
      "execution_count": null,
      "outputs": [
        {
          "output_type": "stream",
          "name": "stdout",
          "text": [
            "Index(['Unnamed: 0', 'Flow ID', ' Source IP', ' Source Port',\n",
            "       ' Destination IP', ' Destination Port', ' Protocol', ' Timestamp',\n",
            "       ' Flow Duration', ' Total Fwd Packets', ' Total Backward Packets',\n",
            "       'Total Length of Fwd Packets', ' Total Length of Bwd Packets',\n",
            "       ' Fwd Packet Length Max', ' Fwd Packet Length Min',\n",
            "       ' Fwd Packet Length Mean', ' Fwd Packet Length Std',\n",
            "       'Bwd Packet Length Max', ' Bwd Packet Length Min',\n",
            "       ' Bwd Packet Length Mean', ' Bwd Packet Length Std', 'Flow Bytes/s',\n",
            "       ' Flow Packets/s', ' Flow IAT Mean', ' Flow IAT Std', ' Flow IAT Max',\n",
            "       ' Flow IAT Min', 'Fwd IAT Total', ' Fwd IAT Mean', ' Fwd IAT Std',\n",
            "       ' Fwd IAT Max', ' Fwd IAT Min', 'Bwd IAT Total', ' Bwd IAT Mean',\n",
            "       ' Bwd IAT Std', ' Bwd IAT Max', ' Bwd IAT Min', 'Fwd PSH Flags',\n",
            "       ' Bwd PSH Flags', ' Fwd URG Flags', ' Bwd URG Flags',\n",
            "       ' Fwd Header Length', ' Bwd Header Length', 'Fwd Packets/s',\n",
            "       ' Bwd Packets/s', ' Min Packet Length', ' Max Packet Length',\n",
            "       ' Packet Length Mean', ' Packet Length Std', ' Packet Length Variance',\n",
            "       'FIN Flag Count', ' SYN Flag Count', ' RST Flag Count',\n",
            "       ' PSH Flag Count', ' ACK Flag Count', ' URG Flag Count',\n",
            "       ' CWE Flag Count', ' ECE Flag Count', ' Down/Up Ratio',\n",
            "       ' Average Packet Size', ' Avg Fwd Segment Size',\n",
            "       ' Avg Bwd Segment Size', ' Fwd Header Length.1', 'Fwd Avg Bytes/Bulk',\n",
            "       ' Fwd Avg Packets/Bulk', ' Fwd Avg Bulk Rate', ' Bwd Avg Bytes/Bulk',\n",
            "       ' Bwd Avg Packets/Bulk', 'Bwd Avg Bulk Rate', 'Subflow Fwd Packets',\n",
            "       ' Subflow Fwd Bytes', ' Subflow Bwd Packets', ' Subflow Bwd Bytes',\n",
            "       'Init_Win_bytes_forward', ' Init_Win_bytes_backward',\n",
            "       ' act_data_pkt_fwd', ' min_seg_size_forward', 'Active Mean',\n",
            "       ' Active Std', ' Active Max', ' Active Min', 'Idle Mean', ' Idle Std',\n",
            "       ' Idle Max', ' Idle Min', 'Class', 'label'],\n",
            "      dtype='object')\n"
          ]
        }
      ]
    },
    {
      "cell_type": "markdown",
      "source": [
        "Layered classification"
      ],
      "metadata": {
        "id": "MVfObOnswunr"
      }
    },
    {
      "cell_type": "code",
      "source": [
        "# Static classifier - Random Forest\n",
        "static_classifier = RandomForestClassifier(n_estimators=100, random_state=42)\n",
        "static_classifier.fit(X_train_static, y_train)\n",
        "\n",
        "# Static Layer Prediction\n",
        "static_predictions = static_classifier.predict(X_test_static)\n",
        "print(\"Static Layer Classification Report:\\n\", classification_report(y_test, static_predictions))\n"
      ],
      "metadata": {
        "colab": {
          "base_uri": "https://localhost:8080/"
        },
        "id": "3PAAJHlKuTcX",
        "outputId": "dd227925-92c2-484e-842a-1bd94aaa6214"
      },
      "execution_count": null,
      "outputs": [
        {
          "output_type": "stream",
          "name": "stdout",
          "text": [
            "Static Layer Classification Report:\n",
            "               precision    recall  f1-score   support\n",
            "\n",
            "           0       0.71      0.75      0.73     23404\n",
            "           1       0.74      0.71      0.72     24516\n",
            "\n",
            "    accuracy                           0.73     47920\n",
            "   macro avg       0.73      0.73      0.73     47920\n",
            "weighted avg       0.73      0.73      0.73     47920\n",
            "\n"
          ]
        }
      ]
    },
    {
      "cell_type": "code",
      "source": [
        "# Dynamic classifier - Multi-Layer Perceptron (MLP)\n",
        "dynamic_classifier = MLPClassifier(hidden_layer_sizes=(64, 32), max_iter=100, random_state=42)\n",
        "dynamic_classifier.fit(X_train_dynamic, y_train)\n",
        "\n",
        "# Dynamic Layer Prediction\n",
        "dynamic_predictions = dynamic_classifier.predict(X_test_dynamic)\n",
        "print(\"Dynamic Layer Classification Report:\\n\", classification_report(y_test, dynamic_predictions))"
      ],
      "metadata": {
        "colab": {
          "base_uri": "https://localhost:8080/"
        },
        "id": "WWjPVLqJxURa",
        "outputId": "9bf89b38-ee10-4379-9349-a44bd80b1eaf"
      },
      "execution_count": null,
      "outputs": [
        {
          "output_type": "stream",
          "name": "stdout",
          "text": [
            "Dynamic Layer Classification Report:\n",
            "               precision    recall  f1-score   support\n",
            "\n",
            "           0       0.50      0.91      0.65     23404\n",
            "           1       0.61      0.13      0.22     24516\n",
            "\n",
            "    accuracy                           0.51     47920\n",
            "   macro avg       0.55      0.52      0.43     47920\n",
            "weighted avg       0.55      0.51      0.43     47920\n",
            "\n"
          ]
        }
      ]
    },
    {
      "cell_type": "markdown",
      "source": [
        "hybrid Analysis"
      ],
      "metadata": {
        "id": "1yqrRJKcxqEv"
      }
    },
    {
      "cell_type": "code",
      "source": [
        "from sklearn.ensemble import VotingClassifier\n",
        "from sklearn.neural_network import MLPClassifier\n",
        "from sklearn.metrics import classification_report\n",
        "from sklearn.impute import SimpleImputer\n",
        "\n",
        "# ... (your existing code to define and fit static_classifier and dynamic_classifier) ...\n",
        "\n",
        "# Combining static and dynamic classifiers\n",
        "hybrid_classifier = VotingClassifier(\n",
        "    estimators=[('static', static_classifier), ('dynamic', dynamic_classifier)],\n",
        "    voting='soft'  # Use soft voting to take probability scores into account\n",
        ")\n",
        "\n",
        "# Train on a combined dataset (here, using concatenated features)\n",
        "X_train_combined = np.hstack((X_train_static, X_train_dynamic))\n",
        "X_test_combined = np.hstack((X_test_static, X_test_dynamic))\n",
        "\n",
        "# Impute NaN values using SimpleImputer\n",
        "imputer = SimpleImputer(strategy='mean') # or 'median', 'most_frequent', etc.\n",
        "X_train_combined = imputer.fit_transform(X_train_combined)\n",
        "X_test_combined = imputer.transform(X_test_combined)\n",
        "\n",
        "hybrid_classifier.fit(X_train_combined, y_train)\n",
        "hybrid_predictions = hybrid_classifier.predict(X_test_combined)\n",
        "print(\"Hybrid Layer Classification Report:\\n\", classification_report(y_test, hybrid_predictions))"
      ],
      "metadata": {
        "colab": {
          "base_uri": "https://localhost:8080/"
        },
        "id": "LD9te5CQxlVc",
        "outputId": "b50d06ba-51bf-4c8f-b2d4-6b5f01fe29b9"
      },
      "execution_count": null,
      "outputs": [
        {
          "output_type": "stream",
          "name": "stderr",
          "text": [
            "/usr/local/lib/python3.10/dist-packages/sklearn/neural_network/_multilayer_perceptron.py:690: ConvergenceWarning: Stochastic Optimizer: Maximum iterations (100) reached and the optimization hasn't converged yet.\n",
            "  warnings.warn(\n"
          ]
        },
        {
          "output_type": "stream",
          "name": "stdout",
          "text": [
            "Hybrid Layer Classification Report:\n",
            "               precision    recall  f1-score   support\n",
            "\n",
            "           0       0.70      0.75      0.72     23404\n",
            "           1       0.74      0.69      0.71     24516\n",
            "\n",
            "    accuracy                           0.72     47920\n",
            "   macro avg       0.72      0.72      0.72     47920\n",
            "weighted avg       0.72      0.72      0.72     47920\n",
            "\n"
          ]
        }
      ]
    },
    {
      "cell_type": "code",
      "source": [
        "# Individual layer evaluation\n",
        "print(\"Static Layer Accuracy:\", accuracy_score(y_test, static_predictions))\n",
        "print(\"Dynamic Layer Accuracy:\", accuracy_score(y_test, dynamic_predictions))\n",
        "\n",
        "# Final hybrid model evaluation\n",
        "print(\"Hybrid Model Accuracy:\", accuracy_score(y_test, hybrid_predictions))\n",
        "print(\"Full Classification Report:\\n\", classification_report(y_test, hybrid_predictions))\n"
      ],
      "metadata": {
        "id": "3oh2RF2szagW",
        "outputId": "770fa8e1-bfab-4231-e1b4-b339d59287f5",
        "colab": {
          "base_uri": "https://localhost:8080/"
        }
      },
      "execution_count": null,
      "outputs": [
        {
          "output_type": "stream",
          "name": "stdout",
          "text": [
            "Static Layer Accuracy: 0.7257095158597663\n",
            "Dynamic Layer Accuracy: 0.5117487479131887\n",
            "Hybrid Model Accuracy: 0.717737896494157\n",
            "Full Classification Report:\n",
            "               precision    recall  f1-score   support\n",
            "\n",
            "           0       0.70      0.75      0.72     23404\n",
            "           1       0.74      0.69      0.71     24516\n",
            "\n",
            "    accuracy                           0.72     47920\n",
            "   macro avg       0.72      0.72      0.72     47920\n",
            "weighted avg       0.72      0.72      0.72     47920\n",
            "\n"
          ]
        }
      ]
    }
  ]
}